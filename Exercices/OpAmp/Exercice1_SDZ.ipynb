{
 "cells": [
  {
   "cell_type": "markdown",
   "metadata": {},
   "source": [
    "# OpAmp 1 - Exercice 1 (P.16 et P.17)\n",
    "![picture 1](b57915a1516a9e8cf2ea3baf1fc5f14e05da7e1c7bb951a2139705443fbfcc17.png)  \n",
    "\n",
    "![picture 2](ddfc6e6cc3fdd4a04cecffe02665081fadbc699a0bd9cd09379a74544306110b.png)  \n"
   ]
  },
  {
   "cell_type": "markdown",
   "metadata": {},
   "source": [
    "## 1.\n",
    "\n",
    "Utiliser les formules dans le résumé\n",
    "\n",
    "$$A=-\\frac{R_c\\beta}{R_{be}}=-\\frac{R_c}{R_E'}=100$$\n",
    "\n",
    "$$f_c=\\frac{1}{2\\pi \\beta R'_E AC_m}=21.2kHz$$\n",
    "\n",
    "$$(GBW=A\\cdot f_c=2.12Mhz)$$"
   ]
  },
  {
   "cell_type": "markdown",
   "metadata": {},
   "source": [
    "## 2.\n",
    "\n"
   ]
  },
  {
   "cell_type": "markdown",
   "metadata": {},
   "source": [
    "## 3.\n",
    "\n"
   ]
  },
  {
   "cell_type": "markdown",
   "metadata": {},
   "source": [
    "## 4.\n",
    "\n"
   ]
  }
 ],
 "metadata": {
  "language_info": {
   "name": "python"
  },
  "orig_nbformat": 4
 },
 "nbformat": 4,
 "nbformat_minor": 2
}
