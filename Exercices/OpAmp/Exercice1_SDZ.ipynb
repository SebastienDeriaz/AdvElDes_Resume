{
 "cells": [
  {
   "cell_type": "markdown",
   "metadata": {},
   "source": [
    "# OpAmp 1 - Exercice 1 (P.16 et P.17)\n",
    "\n",
    "![picture 1](b57915a1516a9e8cf2ea3baf1fc5f14e05da7e1c7bb951a2139705443fbfcc17.png)\n",
    "\n",
    "![picture 2](ddfc6e6cc3fdd4a04cecffe02665081fadbc699a0bd9cd09379a74544306110b.png)"
   ]
  },
  {
   "cell_type": "markdown",
   "metadata": {},
   "source": [
    "## 1.\n",
    "\n",
    "Utiliser les formules dans le résumé\n",
    "\n",
    "$$A=-\\frac{R_c\\beta}{R_{be}}=-\\frac{R_c}{R_E'}=100$$\n",
    "\n",
    "$$f_c=\\frac{1}{2\\pi \\beta R'_E AC_m}=21.2kHz$$\n",
    "\n",
    "$$(GBW=A\\cdot f_c=2.12Mhz)$$"
   ]
  },
  {
   "cell_type": "markdown",
   "metadata": {},
   "source": [
    "## 2.\n",
    "\n",
    "On remplace $R_c$ par un miroir de courant. Ceci a pour effet d'augmenter significativement la résistance équivalent à $R_c$\n",
    "\n",
    "$$R_c\\longrightarrow R_{CEb}\\qquad R_{CEb}> R_c$$\n",
    "\n",
    "Du coup, Le $R_{CE}$ (en bas) n'est plus négligeable et donc on remplace $R_c$ par\n",
    "$$R_c\\longrightarrow \\frac{R_{CE}R_{CEb}}{R_{CE}+R_{CEb}}$$\n",
    "dans la formule finale\n",
    "\n",
    "Comme le gain du montage change, la fréquence de coupure va changer\n",
    "\n",
    "\n",
    "$$A_2=-\\frac{R_{CE}}{2}\\frac{1}{R'_E}=-2000$$\n",
    "\n",
    "$$f_c=\\frac{1}{2\\pi \\beta R'_E A_2C_m}=1.06kHz$$\n",
    "\n"
   ]
  },
  {
   "cell_type": "markdown",
   "metadata": {},
   "source": [
    "## 3.\n",
    "\n",
    "On ajoute une cascode en bas. Sa résistance de sortie est $\\beta R_{CE}$ (son propre $R_{CE}$ qui est le même que celui d'en bas)\n",
    "\n",
    "Ceci rend $R_{CE}$ du bas néglibeable car $\\beta R_{CE} > R_{CE}$. Comme cette valeur est très grande, on retrouve uniquement le $R_{CEb}$ (en haut)\n",
    "\n",
    "$$R_c\\longrightarrow \\frac{R_{CE}R_{CEb}}{R_{CE}+R_{CEb}}\\longrightarrow R_{CE}$$\n",
    "\n",
    "On trouve alors le gain suivant\n",
    "\n",
    "$$A_3=-\\frac{R_{CE}}{R'_E}=-4000$$\n",
    "\n",
    "Le fait de mettre une cascode va changer le gain vu par le premier transistor qui sera bien plus faible. L'approximation de $C_e$ ne fonctionne plus\n",
    "Au lieu de $C_e\\approx AC_m$ on a $\\longrightarrow C_e=(1+|-1|)C_m=2C_m$$\n",
    "\n",
    "Donc on utilise cette valeur dans le calcul de la fréquence de coupure\n",
    "\n",
    "$$f_{c3}=\\frac{1}{2\\pi \\beta R'_E2C_m}=1.06Mhz$$"
   ]
  },
  {
   "cell_type": "markdown",
   "metadata": {},
   "source": [
    "## 4.\n",
    "\n",
    "On mets une cascode en haut, donc les deux branches auront la même valeur de résistance de sortie $\\beta R_{CE}$. Résistance de sortie :\n",
    "$$R_{CE}\\longrightarrow \\beta R_{CE}$$\n",
    "Comme la partie du haut change, la partie du bas n'est plus négligeable. On utilise le diviseur de tension\n",
    "\n",
    "$$R_{CE}\\longrightarrow \\frac{\\beta R_{CE}}{2}$$\n",
    "\n",
    "$$A_4=-\\frac{\\beta R_{CE}}{2R'-E}=-200000$$\n",
    "\n",
    "La formule de la fréquence ne change pas car le gain vu par le premier transistor est toujours le même\n",
    "$$f_{c4}=\\frac{1}{2\\pi \\beta R'_E2 C_m}=1.06Mhz$$"
   ]
  }
 ],
 "metadata": {
  "language_info": {
   "name": "python"
  },
  "orig_nbformat": 4
 },
 "nbformat": 4,
 "nbformat_minor": 2
}
