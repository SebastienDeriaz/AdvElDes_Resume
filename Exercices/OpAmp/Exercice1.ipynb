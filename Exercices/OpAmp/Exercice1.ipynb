{
 "cells": [
  {
   "cell_type": "code",
   "execution_count": 1,
   "metadata": {},
   "outputs": [],
   "source": [
    "import numpy as np\n"
   ]
  },
  {
   "cell_type": "markdown",
   "metadata": {},
   "source": [
    "# Exercice 1 (P. 17)\n",
    "\n",
    "![picture 2](../../images/7dd488bd05fc4f01cad711068f9dc2265526f2846fe0363ff5f112782de928e9.png)  \n",
    "\n",
    "![picture 1](../../images/0b4dfe5d540301259fe13ff063ca478b64a4e6287fc6513d8535f7a3c9b19fb3.png)  \n",
    "\n",
    "$$R'_E=25\\Omega\\qquad r_{CE}=100k\\Omega\\qquad \\beta=100\\qquad R_C=2.5k\\Omega\\qquad C_M=30pF$$\n",
    "\n",
    "## Premier montage\n",
    "\n",
    "![picture 4](../../images/f3d6d316750f50102adf7af9bd06738dc9b89d7e3a988f8448a114ddb0bb47a0.png)  \n",
    "\n",
    "### Gain\n",
    "\n",
    "$$g_m=\\frac{1}{R'_E}$$\n",
    "\n",
    "La tension de sortie est sur $R_C$ (quelle que sois la référence)\n",
    "$$A=\\frac{R_C}{R'_E}$$\n",
    "\n",
    "### Bande passante\n",
    "\n",
    "$$C_e=C_m\\cdot (1+A)$$\n",
    "Comme $C_m \\ll C_e$ on le néglige\n",
    "\n",
    "On applique la formule\n",
    "\n",
    "$$\\LARGE \\boxed{\\frac{1}{2\\pi \\beta R'_E A C_m}}\\approx \\frac{1}{2\\pi \\beta\\frac{R'_E\\cdot R_g}{R'_E+R_g} C_e}\\qquad R_g \\gg R_e$$\n",
    "\n"
   ]
  },
  {
   "cell_type": "code",
   "execution_count": 18,
   "metadata": {},
   "outputs": [
    {
     "name": "stdout",
     "output_type": "stream",
     "text": [
      "21220.65907891938\n"
     ]
    }
   ],
   "source": [
    "Re = 25\n",
    "Rg = 100000\n",
    "beta = 100\n",
    "A = 100\n",
    "Cm = 30e-12\n",
    "Ce = Cm * (1+A)\n",
    "\n",
    "\n",
    "def par(R1, R2):\n",
    "    return (R1*R2)/(R1+R2)\n",
    "\n",
    "\n",
    "\n",
    "\n",
    "f1 = 1/(2*np.pi*beta*Re*A*Cm)\n",
    "#f2 = 1/(2*np.pi*beta*par(Re, Rg)*Ce)\n",
    "\n",
    "print(f1)\n",
    "#print(f2)"
   ]
  }
 ],
 "metadata": {
  "interpreter": {
   "hash": "06a6858702f229212a45149ce6c1ba73d7326b5afdeebebe8324a7c067d664c2"
  },
  "kernelspec": {
   "display_name": "Python 3.10.0 64-bit",
   "language": "python",
   "name": "python3"
  },
  "language_info": {
   "codemirror_mode": {
    "name": "ipython",
    "version": 3
   },
   "file_extension": ".py",
   "mimetype": "text/x-python",
   "name": "python",
   "nbconvert_exporter": "python",
   "pygments_lexer": "ipython3",
   "version": "3.10.0"
  },
  "orig_nbformat": 4
 },
 "nbformat": 4,
 "nbformat_minor": 2
}
