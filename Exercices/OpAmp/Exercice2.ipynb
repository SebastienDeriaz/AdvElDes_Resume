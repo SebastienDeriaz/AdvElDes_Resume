{
 "cells": [
  {
   "cell_type": "markdown",
   "metadata": {},
   "source": [
    "# Opamp 2 - Exercice 1 (P.3)\n",
    "\n",
    "![picture 3](ecd58c3d985aacb73c6cfdb2814266a9637ff570ff4e1399ba1f0344418f60cb.png)  \n"
   ]
  },
  {
   "cell_type": "markdown",
   "metadata": {},
   "source": [
    "voir résumé"
   ]
  }
 ],
 "metadata": {
  "language_info": {
   "name": "python"
  },
  "orig_nbformat": 4
 },
 "nbformat": 4,
 "nbformat_minor": 2
}
