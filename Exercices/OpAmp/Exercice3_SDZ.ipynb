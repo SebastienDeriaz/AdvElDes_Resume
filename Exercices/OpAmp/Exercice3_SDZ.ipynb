{
 "cells": [
  {
   "cell_type": "markdown",
   "metadata": {},
   "source": [
    "# Opamp3 - Exercice 1 (P.18)\n",
    "\n",
    "![picture 1](1eb68ac23ab028463c4e1b7696cafae0b35113d7411e9f27f9310d59e958a67f.png)  \n"
   ]
  },
  {
   "cell_type": "markdown",
   "metadata": {},
   "source": [
    "## Fonction de transfert du système (sans $C_L$)\n",
    "\n",
    "On commence par poser la fonction de transfert de l'amplificateur opérationnel\n",
    "\n",
    "$$\\frac{U_{out}}{U_{+}-U_{-}}=\\frac{A_0}{1+\\frac{s}{\\omega_0}}$$\n",
    "\n",
    "On somme tous les courants (qui partent) au point $U_{-}$ (entrée de l'ampli-op).\n",
    "\n",
    "A noter que le prof a mis le courant \"vers le haut\" à travers la diode mais c'est faux. On continuera avec cette logique mais en pratique il faut mettre le courant $I_{ph}$ dans le sens <b>inverse</b> de la diode.\n",
    "$$-I_{ph}+\\frac{U_{-}-U_{out}}{R_L}+sC_jU_{-}=0$$\n",
    "$$I_{ph}=\\frac{U_{-}-U_{out}}{R_L}+sC_jU_{-}$$\n",
    "On va remplacer $U_{-}$ par son expression (à partir de la fonction de transfert de l'ampli). En sachant que $U_{+}=0$\n",
    "$$U_{-}=-U_{out}\\frac{1+\\frac{s}{\\omega_0}}{A_0}$$\n",
    "\n",
    "\n",
    "$$I_{ph}=\\frac{-U_{out}\\frac{1+\\frac{s}{\\omega_0}}{A_0}-U_{out}}{R_L}-sC_jU_{out}\\frac{1+\\frac{s}{\\omega_0}}{A_0}$$\n",
    "\n",
    "$$R_LI_{ph}=-U_{out}\\frac{1+\\frac{s}{\\omega_0}}{A_0}-U_{out}-R_LsC_jU_{out}\\frac{1+\\frac{s}{\\omega_0}}{A_0}$$\n",
    "\n",
    "$$R_LI_{ph}=-U_{out}\\left(\\frac{1+\\frac{s}{\\omega_0}}{A_0}+1+R_LsC_j\\frac{1+\\frac{s}{\\omega_0}}{A_0}\\right)$$\n",
    "\n",
    "$$R_LI_{ph}=-U_{out}\\left(\\frac{1+\\frac{s}{\\omega_0}}{A_0}\\left(1+sR_LC_j\\right)+1\\right)$$\n",
    "\n",
    "Le \"-1\" du corrigé est probablement une erreur. On exprimer la fonction de transfert finale\n",
    "\n",
    "$$\\frac{U_{out}}{R_LI_{ph}}=-\\frac{1}{\\frac{1+\\frac{s}{\\omega_0}}{A_0}\\left(1+sR_LC_j\\right)+1}$$\n",
    "\n",
    "$$\\frac{U_{out}}{R_LI_{ph}}=-\\frac{1}{\\frac{1}{A_0}+\\frac{1}{A_0}\\frac{s}{\\omega_0}+\\frac{1}{A_0}sR_LC_j+\\frac{1}{A_0}\\frac{s}{\\omega_0}sR_LC_j+1}$$\n",
    "\n",
    "$$\\frac{U_{out}}{R_LI_{ph}}=-\\frac{1}{1+\\underbrace{\\frac{1}{A_0}}_{\\approx 0}+s\\underbrace{\\frac{1}{A_0}\\left(\\frac{1}{\\omega_0}+\\underbrace{R_LC_j}_{\\ll \\frac{1}{\\omega_0}}\\right)}_{\\frac{1}{Q\\omega_n}}+s^2\\underbrace{\\frac{1}{A_0}\\frac{1}{\\omega_0}R_LC_j}_{\\frac{1}{\\omega_n^2}}}$$\n"
   ]
  },
  {
   "cell_type": "markdown",
   "metadata": {},
   "source": [
    "On sépare les termes pour déterminer $\\omega_n$ et $Q$\n",
    "\n",
    "$$\\frac{1}{\\omega_n^2}=\\frac{R_LC_j}{A_0\\omega_0}\\longrightarrow\\boxed{\\omega_n=\\sqrt{\\frac{A_0\\omega_0}{R_LC_j}}}$$\n",
    "\n",
    "$$\\frac{1}{Q\\omega_n}=\\frac{1}{A_0}\\left(\\frac{1}{\\omega_0}\\right)$$\n",
    "\n",
    "$$\\frac{1}{Q\\sqrt{\\frac{A_0\\omega_0}{R_LC_j}}}=\\frac{1}{A_0}\\left(\\frac{1}{\\omega_0}\\right)$$\n",
    "\n",
    "$$Q\\sqrt{\\frac{A_0\\omega_0}{R_LC_j}}=A_0\\omega_0$$\n",
    "\n",
    "$$Q=\\frac{A_0\\omega_0}{\\sqrt{\\frac{A_0\\omega_0}{R_LC_j}}}$$\n",
    "\n",
    "$$Q=\\frac{\\sqrt{A_0\\omega_0}}{\\sqrt{\\frac{1}{R_LC_j}}}$$\n",
    "\n",
    "$$\\boxed{Q=\\sqrt{A_0\\omega_0R_LC_j}}$$\n"
   ]
  },
  {
   "cell_type": "markdown",
   "metadata": {},
   "source": [
    "## On ajoute $C_L$\n",
    "$C_L$ se retrouve \"en parralèle\" avec $C_j$\n",
    "\n",
    "En sachant que $C_L\\ll C_j$, on trouve que\n",
    "$$\\omega_n'=\\sqrt{\\frac{A_0\\omega_0}{R_L(C_j+C_L)}}\\approx \\omega_n$$\n",
    "\n",
    "Et la... magie du prof.. ça semble faux mais bon tant pis :\n",
    "\n",
    "On dira que \"c'est la fonction de transfert avec les mêmes subsitutions que précédemment\"\n",
    "$$\\frac{U_{out}}{R_LU_{ph}}=-\\frac{1}{1+s\\left(C_LR_L+\\frac{1}{A_0\\omega_0}\\right)+s^2\\frac{(C_j+C_L)R_L}{A_0\\omega_0}}$$\n",
    "\n",
    "$$\\boxed{Q'=\\frac{Q}{1+A_0\\omega_0C_LR_l}}$$\n",
    "\n",
    "On a supposé que $C_j\\gg C_L$... parce que... voila\n",
    "\n"
   ]
  }
 ],
 "metadata": {
  "language_info": {
   "name": "python"
  },
  "orig_nbformat": 4
 },
 "nbformat": 4,
 "nbformat_minor": 2
}
