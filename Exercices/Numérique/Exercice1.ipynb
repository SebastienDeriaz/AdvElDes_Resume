{
 "cells": [
  {
   "cell_type": "markdown",
   "metadata": {},
   "source": [
    "# Numérique - Exercice 1 (SDZ)\n",
    "\n",
    "![picture 2](02645b8ce4f3baf035ae2c1074434d4a03aafee489a42d35a662340f3e13404e.png)  \n"
   ]
  },
  {
   "cell_type": "markdown",
   "metadata": {},
   "source": []
  }
 ],
 "metadata": {
  "language_info": {
   "name": "python"
  },
  "orig_nbformat": 4
 },
 "nbformat": 4,
 "nbformat_minor": 2
}
